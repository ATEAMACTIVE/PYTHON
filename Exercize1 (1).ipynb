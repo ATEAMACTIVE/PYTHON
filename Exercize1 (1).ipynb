{
 "cells": [
  {
   "cell_type": "code",
   "execution_count": 1,
   "id": "f3826c46-5a45-42cd-9ed1-be36436d719c",
   "metadata": {},
   "outputs": [
    {
     "name": "stdin",
     "output_type": "stream",
     "text": [
      "Enter the length of the rectangle:  2\n",
      "Enter the width of the rectangle:  3\n"
     ]
    },
    {
     "name": "stdout",
     "output_type": "stream",
     "text": [
      "The Area of the rectangle is:  6\n"
     ]
    }
   ],
   "source": [
    "length = int(input(\"Enter the length of the rectangle: \")) \n",
    "width = int(input(\"Enter the width of the rectangle: \")\n",
    "\n",
    "Area = length * width \n",
    "\n",
    "print(\"The Area of the rectangle is: \" , Area)"
   ]
  }
 ],
 "metadata": {
  "kernelspec": {
   "display_name": "Python 3 (ipykernel)",
   "language": "python",
   "name": "python3"
  },
  "language_info": {
   "codemirror_mode": {
    "name": "ipython",
    "version": 3
   },
   "file_extension": ".py",
   "mimetype": "text/x-python",
   "name": "python",
   "nbconvert_exporter": "python",
   "pygments_lexer": "ipython3",
   "version": "3.12.4"
  }
 },
 "nbformat": 4,
 "nbformat_minor": 5
}
